{
 "cells": [
  {
   "cell_type": "markdown",
   "id": "7bf79c2d-83ba-4a7d-ba55-d4bbcc81b239",
   "metadata": {},
   "source": [
    "# Install Python\n",
    "# Install Anaconda Navigator\n"
   ]
  },
  {
   "cell_type": "code",
   "execution_count": 1,
   "id": "653f28c5-893b-486e-9729-9a7d9b158e87",
   "metadata": {},
   "outputs": [
    {
     "name": "stdout",
     "output_type": "stream",
     "text": [
      "Python 3.12.7\n"
     ]
    }
   ],
   "source": [
    "!python --version"
   ]
  },
  {
   "cell_type": "code",
   "execution_count": 3,
   "id": "f02fd8c8-e6bf-4b0a-ab07-eb70c90bbf09",
   "metadata": {},
   "outputs": [
    {
     "name": "stdout",
     "output_type": "stream",
     "text": [
      "50\n"
     ]
    }
   ],
   "source": [
    "x = 50\n",
    "print(x)"
   ]
  },
  {
   "cell_type": "code",
   "execution_count": 5,
   "id": "5b7c37d5-ac13-4c0f-8114-23f9f70bad14",
   "metadata": {},
   "outputs": [
    {
     "name": "stdout",
     "output_type": "stream",
     "text": [
      "Hello\n"
     ]
    }
   ],
   "source": [
    "x = \"Hello\"\n",
    "print(x)"
   ]
  },
  {
   "cell_type": "code",
   "execution_count": 7,
   "id": "c692b83e-572d-4655-a85b-98ed3fcd8c05",
   "metadata": {},
   "outputs": [
    {
     "name": "stdout",
     "output_type": "stream",
     "text": [
      "28\n"
     ]
    }
   ],
   "source": [
    "print(13 + 15) "
   ]
  },
  {
   "cell_type": "code",
   "execution_count": 9,
   "id": "78db7a96-9554-473d-a84c-51deeccab298",
   "metadata": {},
   "outputs": [
    {
     "data": {
      "text/plain": [
       "str"
      ]
     },
     "execution_count": 9,
     "metadata": {},
     "output_type": "execute_result"
    }
   ],
   "source": [
    "type (\"Hello Class!\")"
   ]
  },
  {
   "cell_type": "code",
   "execution_count": 11,
   "id": "582dc918-ea92-428a-ac60-06755298075c",
   "metadata": {},
   "outputs": [
    {
     "data": {
      "text/plain": [
       "float"
      ]
     },
     "execution_count": 11,
     "metadata": {},
     "output_type": "execute_result"
    }
   ],
   "source": [
    "type (12.5)"
   ]
  },
  {
   "cell_type": "code",
   "execution_count": 13,
   "id": "8348673e-6de3-4762-97e9-1c68f8920af9",
   "metadata": {},
   "outputs": [
    {
     "data": {
      "text/plain": [
       "int"
      ]
     },
     "execution_count": 13,
     "metadata": {},
     "output_type": "execute_result"
    }
   ],
   "source": [
    "type (-12)"
   ]
  },
  {
   "cell_type": "code",
   "execution_count": 15,
   "id": "b49ad750-ed46-47a4-80fe-d3b82a55d5fc",
   "metadata": {},
   "outputs": [
    {
     "data": {
      "text/plain": [
       "bool"
      ]
     },
     "execution_count": 15,
     "metadata": {},
     "output_type": "execute_result"
    }
   ],
   "source": [
    "type (True)"
   ]
  },
  {
   "cell_type": "code",
   "execution_count": 17,
   "id": "3325863a-9ea4-48a1-b4b6-38682610a3f6",
   "metadata": {},
   "outputs": [
    {
     "data": {
      "text/plain": [
       "list"
      ]
     },
     "execution_count": 17,
     "metadata": {},
     "output_type": "execute_result"
    }
   ],
   "source": [
    "a = ['a', 'b', 'c']\n",
    "type(a)"
   ]
  },
  {
   "cell_type": "code",
   "execution_count": 19,
   "id": "622fc35f-8815-4365-ad3c-90743918dc3b",
   "metadata": {},
   "outputs": [
    {
     "data": {
      "text/plain": [
       "tuple"
      ]
     },
     "execution_count": 19,
     "metadata": {},
     "output_type": "execute_result"
    }
   ],
   "source": [
    "b = (\"apple\", \"banana\", \"cherry\")\n",
    "type(b)"
   ]
  },
  {
   "cell_type": "code",
   "execution_count": 21,
   "id": "07f73936-1669-4761-b574-f10ee56a9638",
   "metadata": {},
   "outputs": [
    {
     "data": {
      "text/plain": [
       "set"
      ]
     },
     "execution_count": 21,
     "metadata": {},
     "output_type": "execute_result"
    }
   ],
   "source": [
    "c = {\"apple\", \"banana\", \"cherry\"}\n",
    "type(c)"
   ]
  },
  {
   "cell_type": "code",
   "execution_count": 23,
   "id": "bab07e58-6499-4bcb-b4ec-b71cb29768bd",
   "metadata": {},
   "outputs": [
    {
     "data": {
      "text/plain": [
       "range"
      ]
     },
     "execution_count": 23,
     "metadata": {},
     "output_type": "execute_result"
    }
   ],
   "source": [
    "d = range(6)\n",
    "type(d)"
   ]
  },
  {
   "cell_type": "code",
   "execution_count": 25,
   "id": "95b84334-ab3c-4978-8c34-56572053a6a3",
   "metadata": {},
   "outputs": [
    {
     "data": {
      "text/plain": [
       "complex"
      ]
     },
     "execution_count": 25,
     "metadata": {},
     "output_type": "execute_result"
    }
   ],
   "source": [
    "type (1j)"
   ]
  },
  {
   "cell_type": "code",
   "execution_count": 27,
   "id": "8d99e4bb-b6a8-4a73-8a74-6bb51119b2af",
   "metadata": {},
   "outputs": [
    {
     "name": "stdout",
     "output_type": "stream",
     "text": [
      "The first number is: 15\n",
      "The type of second number is: <class 'int'>\n",
      "The first number is: 15 which is smaller than the second number: 20\n",
      "The second number is: 20 which its type is: <class 'int'>\n"
     ]
    }
   ],
   "source": [
    "# print() + format() functions\n",
    "w = 15\n",
    "x = 20\n",
    "print(\"The first number is: {}\".format(w))\n",
    "print(\"The type of second number is: {}\".format(type(x)))\n",
    "print(\"The first number is: {} which is smaller than the second number: {}\". format(w,x))\n",
    "print(\"The second number is: {} which its type is: {}\". format(x,type(x)))\n"
   ]
  },
  {
   "cell_type": "code",
   "execution_count": 29,
   "id": "696e0bda-53a9-4a19-b818-8ffce4b3c5a0",
   "metadata": {},
   "outputs": [
    {
     "name": "stdout",
     "output_type": "stream",
     "text": [
      "The first number is: 15 which its type is: <class 'int'>\n"
     ]
    }
   ],
   "source": [
    "# format() with index for reordering\n",
    "print('The first number is: {1} which its type is: {0}'.format(type(w), w))"
   ]
  },
  {
   "attachments": {
    "9a24f7c8-f24e-401c-90f5-cedb4a0eef98.webp": {
     "image/webp": "[encoded data removed]"
    }
   },
   "cell_type": "markdown",
   "id": "52e483fa-f8d8-440f-8a2f-5e5bbbbe471b",
   "metadata": {},
   "source": [
    "# Data types in Python\n",
    "![Python-Data-Types.webp](attachment:9a24f7c8-f24e-401c-90f5-cedb4a0eef98.webp)\n",
    "\n",
    "resource: www.geeksforgeeks.org"
   ]
  },
  {
   "cell_type": "markdown",
   "id": "5d9b78d9-c825-4c90-9ee0-6edf971ed630",
   "metadata": {},
   "source": [
    "# Casting: (type conversion) the process of converting a value from one data type to another"
   ]
  },
  {
   "cell_type": "code",
   "execution_count": 33,
   "id": "1d8752de-6c30-4744-b038-b3d3364b403d",
   "metadata": {},
   "outputs": [
    {
     "name": "stdout",
     "output_type": "stream",
     "text": [
      "55 <class 'int'>\n",
      "52 <class 'int'>\n",
      "83 <class 'int'>\n",
      "-27 <class 'int'>\n"
     ]
    }
   ],
   "source": [
    "# Converting to Integer\n",
    "# Data Loss: When casting from a float to an integer, the decimal part is truncated.\n",
    "x = int(55)   \n",
    "y = int(52.88) \n",
    "z = int(\"83\") \n",
    "w = int(\"-27\") \n",
    "print(x, type (x))\n",
    "print(y, type (y))\n",
    "print(z, type (z))\n",
    "print(w, type (w))"
   ]
  },
  {
   "cell_type": "code",
   "execution_count": 35,
   "id": "c075cf16-e478-4b84-95b5-d6b2faba61c3",
   "metadata": {},
   "outputs": [
    {
     "name": "stdout",
     "output_type": "stream",
     "text": [
      "55.0\n",
      "-52.8\n",
      "83.0\n",
      "-64.24\n",
      "<class 'float'> <class 'float'> <class 'float'> <class 'float'>\n"
     ]
    }
   ],
   "source": [
    "#Converting to Float\n",
    "x = float(55)     \n",
    "y = float(-52.8)   \n",
    "z = float(\"83\")   \n",
    "w = float(\"-64.24\")\n",
    "print(x)\n",
    "print(y)\n",
    "print(z)\n",
    "print(w)\n",
    "print(type(x),type(y), type(z), type (w))"
   ]
  },
  {
   "cell_type": "code",
   "execution_count": 37,
   "id": "d2a76252-848c-4fc2-af56-07624caa82a4",
   "metadata": {},
   "outputs": [
    {
     "name": "stdout",
     "output_type": "stream",
     "text": [
      "Hello! <class 'str'>\n",
      "52 <class 'str'>\n",
      "83.0 <class 'str'>\n"
     ]
    }
   ],
   "source": [
    "# Converting to String\n",
    "x = str(\"Hello!\") \n",
    "y = str(52)    \n",
    "z = str(83.0)  \n",
    "print(x, type (x))\n",
    "print(y, type (y))\n",
    "print(z, type (z))"
   ]
  },
  {
   "cell_type": "code",
   "execution_count": 39,
   "id": "4312e586-9775-40c6-9c30-84303639ebb4",
   "metadata": {},
   "outputs": [
    {
     "data": {
      "text/plain": [
       "'52'"
      ]
     },
     "execution_count": 39,
     "metadata": {},
     "output_type": "execute_result"
    }
   ],
   "source": [
    "y"
   ]
  },
  {
   "cell_type": "code",
   "execution_count": 41,
   "id": "c1bdda0d-1843-4c53-9899-b8eb6a587a08",
   "metadata": {},
   "outputs": [
    {
     "ename": "ValueError",
     "evalue": "invalid literal for int() with base 10: 'hello'",
     "output_type": "error",
     "traceback": [
      "\u001b[1;31m---------------------------------------------------------------------------\u001b[0m",
      "\u001b[1;31mValueError\u001b[0m                                Traceback (most recent call last)",
      "Cell \u001b[1;32mIn[41], line 2\u001b[0m\n\u001b[0;32m      1\u001b[0m \u001b[38;5;66;03m# Errors (ValueError): If you try to cast an incompatible value, you might get a ValueError.\u001b[39;00m\n\u001b[1;32m----> 2\u001b[0m x \u001b[38;5;241m=\u001b[39m \u001b[38;5;28mint\u001b[39m(\u001b[38;5;124m\"\u001b[39m\u001b[38;5;124mhello\u001b[39m\u001b[38;5;124m\"\u001b[39m)\n\u001b[0;32m      3\u001b[0m \u001b[38;5;28mprint\u001b[39m(x)\n",
      "\u001b[1;31mValueError\u001b[0m: invalid literal for int() with base 10: 'hello'"
     ]
    }
   ],
   "source": [
    "# Errors (ValueError): If you try to cast an incompatible value, you might get a ValueError.\n",
    "x = int(\"hello\")\n",
    "print(x)"
   ]
  },
  {
   "cell_type": "markdown",
   "id": "02cf0b6e-5e53-4dde-b4de-d192770527e7",
   "metadata": {},
   "source": [
    "# Variables"
   ]
  },
  {
   "cell_type": "code",
   "execution_count": 44,
   "id": "12f9b804-5477-4bcd-a54c-6a0c6c80ea8c",
   "metadata": {},
   "outputs": [
    {
     "data": {
      "text/plain": [
       "120"
      ]
     },
     "execution_count": 44,
     "metadata": {},
     "output_type": "execute_result"
    }
   ],
   "source": [
    "x = 12\n",
    "y = 10\n",
    "res = x * y\n",
    "res"
   ]
  },
  {
   "cell_type": "code",
   "execution_count": 46,
   "id": "fa9b2100-c102-4f57-9895-beda61d40129",
   "metadata": {},
   "outputs": [
    {
     "name": "stdout",
     "output_type": "stream",
     "text": [
      "120\n"
     ]
    }
   ],
   "source": [
    "x = 12\n",
    "y = 10\n",
    "res = x * y\n",
    "print(res)"
   ]
  },
  {
   "cell_type": "code",
   "execution_count": 48,
   "id": "cef33688-7606-454a-950e-858b94cfc63b",
   "metadata": {},
   "outputs": [
    {
     "data": {
      "text/plain": [
       "'name = \"Shahram\"\\nfamily = \"Babaie\"\\nprint(family)'"
      ]
     },
     "execution_count": 48,
     "metadata": {},
     "output_type": "execute_result"
    }
   ],
   "source": [
    "#comment of one line\n",
    "\"\"\" comment of several lines\"\"\"\n",
    "#\"ctrl+/\" comment of a cell\n",
    "\n",
    "\"\"\"name = \"Shahram\"\n",
    "family = \"Babaie\"\n",
    "print(family)\"\"\""
   ]
  },
  {
   "cell_type": "code",
   "execution_count": 50,
   "id": "a8ee4d14-1234-43a4-9a47-1a0f697181f3",
   "metadata": {},
   "outputs": [
    {
     "data": {
      "text/plain": [
       "'Babaie'"
      ]
     },
     "execution_count": 50,
     "metadata": {},
     "output_type": "execute_result"
    }
   ],
   "source": [
    "name = \"Shahram\"\n",
    "family = \"Babaie\"\n",
    "family\n"
   ]
  },
  {
   "cell_type": "code",
   "execution_count": 52,
   "id": "c4eaf8b4-2bc5-4333-8d17-772aa42977b1",
   "metadata": {},
   "outputs": [
    {
     "name": "stdout",
     "output_type": "stream",
     "text": [
      "Shahram Babaie\n"
     ]
    }
   ],
   "source": [
    "print(name,family)"
   ]
  },
  {
   "cell_type": "code",
   "execution_count": 54,
   "id": "2fc66696-9e23-473d-a6af-dcec7d8e77ac",
   "metadata": {},
   "outputs": [
    {
     "name": "stdout",
     "output_type": "stream",
     "text": [
      "2 2.5 John\n"
     ]
    }
   ],
   "source": [
    "x,y,z = 2,2.5,'John'\n",
    "print(x,y,z)"
   ]
  },
  {
   "cell_type": "code",
   "execution_count": 56,
   "id": "8f2a2d59",
   "metadata": {},
   "outputs": [
    {
     "name": "stdout",
     "output_type": "stream",
     "text": [
      "2\n",
      "2.5\n",
      "John\n"
     ]
    }
   ],
   "source": [
    "x,y,z = 2,2.5,'John'\n",
    "print(x)\n",
    "print(y)\n",
    "print(z)"
   ]
  },
  {
   "cell_type": "code",
   "execution_count": 58,
   "id": "72dae839-edf8-4a25-bb9c-08fe8edf8bfa",
   "metadata": {},
   "outputs": [
    {
     "data": {
      "text/plain": [
       "'John'"
      ]
     },
     "execution_count": 58,
     "metadata": {},
     "output_type": "execute_result"
    }
   ],
   "source": [
    "# This prints just the last variable\n",
    "x,y,z = 2,2.5,'John'\n",
    "x\n",
    "y\n",
    "z"
   ]
  },
  {
   "cell_type": "markdown",
   "id": "b23e7729-9f7a-40ba-ad68-13a9080e96b2",
   "metadata": {},
   "source": [
    "Concatenate"
   ]
  },
  {
   "cell_type": "code",
   "execution_count": 61,
   "id": "539450fd-6616-4213-94dc-aa717091cdc5",
   "metadata": {},
   "outputs": [
    {
     "name": "stdout",
     "output_type": "stream",
     "text": [
      "ShahramBabaie\n"
     ]
    }
   ],
   "source": [
    "print(name+family)"
   ]
  },
  {
   "cell_type": "code",
   "execution_count": 63,
   "id": "602123ef-53a7-447a-8255-f3554875045d",
   "metadata": {},
   "outputs": [
    {
     "name": "stdout",
     "output_type": "stream",
     "text": [
      "Shahram Babaie\n"
     ]
    }
   ],
   "source": [
    "print(name +\" \" +family)"
   ]
  },
  {
   "cell_type": "code",
   "execution_count": 65,
   "id": "19302f00-347d-425e-869d-6209b1466f79",
   "metadata": {},
   "outputs": [
    {
     "name": "stdout",
     "output_type": "stream",
     "text": [
      "ShahramShahramShahram\n"
     ]
    }
   ],
   "source": [
    "print(name*3)"
   ]
  },
  {
   "cell_type": "raw",
   "id": "67d19e80-566c-49a2-bdb5-72cdd458795b",
   "metadata": {},
   "source": [
    "Naming Conventions for naming variables, functions, or identifiers\n",
    "\"1,2, ... ,9, 0\"\n",
    "\"a, b, ... , z\"\n",
    "\"A,B, ... ,Z\"\n",
    "\"underscore\"\n",
    "\n",
    "Variables cannot start with a number in Python\n",
    "1variable = 5 (incorrect-SyntaxError)\n",
    "variable1 = 5 (correct)\n"
   ]
  },
  {
   "cell_type": "code",
   "execution_count": 68,
   "id": "98b01237-4810-4e6a-b42a-85be3a354d05",
   "metadata": {},
   "outputs": [
    {
     "ename": "SyntaxError",
     "evalue": "invalid decimal literal (4267792994.py, line 1)",
     "output_type": "error",
     "traceback": [
      "\u001b[1;36m  Cell \u001b[1;32mIn[68], line 1\u001b[1;36m\u001b[0m\n\u001b[1;33m    1variable = 5\u001b[0m\n\u001b[1;37m    ^\u001b[0m\n\u001b[1;31mSyntaxError\u001b[0m\u001b[1;31m:\u001b[0m invalid decimal literal\n"
     ]
    }
   ],
   "source": [
    "1variable = 5"
   ]
  },
  {
   "cell_type": "code",
   "execution_count": 70,
   "id": "04bb2a60-051b-4cae-997b-cf181b45951f",
   "metadata": {},
   "outputs": [],
   "source": [
    "# 1. PascalCase: Each word in a compound word or phrase starts with an uppercase letter, and there are no spaces or underscores between words\n",
    "\n",
    "SecondCourseName = \"Python\""
   ]
  },
  {
   "cell_type": "code",
   "execution_count": 72,
   "id": "969fea12-07e7-452c-953d-0b46eb3b8af9",
   "metadata": {},
   "outputs": [],
   "source": [
    "# 2. camelCase: The first word starts with a lowercase letter, and subsequent words start with an uppercase letter.\n",
    "\n",
    "secondCourseName = \"Python\""
   ]
  },
  {
   "cell_type": "code",
   "execution_count": 74,
   "id": "17ecd3ea-72d4-46e2-a242-2fdc8fc20956",
   "metadata": {},
   "outputs": [],
   "source": [
    "# 3. snake_case: Words are separated by underscores, and all letters are usually lowercase.\n",
    "\n",
    "second_course_name = \"Python\""
   ]
  },
  {
   "cell_type": "code",
   "execution_count": 76,
   "id": "ad2a06d7-7c42-4504-9e50-335d0419091d",
   "metadata": {},
   "outputs": [
    {
     "ename": "SyntaxError",
     "evalue": "cannot assign to expression here. Maybe you meant '==' instead of '='? (2506575371.py, line 5)",
     "output_type": "error",
     "traceback": [
      "\u001b[1;36m  Cell \u001b[1;32mIn[76], line 5\u001b[1;36m\u001b[0m\n\u001b[1;33m    second-course-name = \"Python\"\u001b[0m\n\u001b[1;37m    ^\u001b[0m\n\u001b[1;31mSyntaxError\u001b[0m\u001b[1;31m:\u001b[0m cannot assign to expression here. Maybe you meant '==' instead of '='?\n"
     ]
    }
   ],
   "source": [
    "# 4. kebab-case: Words are separated by hyphens, commonly used in URLs or CSS.\n",
    "\"\"\"kebab-case is not allowed for naming in Python because the hyphen (-) is interpreted as the subtraction operator in Python syntax. \n",
    "If you attempt to use kebab-case, Python will throw a [Syntax Error].\"\"\"\n",
    "\n",
    "second-course-name = \"Python\"\n"
   ]
  },
  {
   "cell_type": "code",
   "execution_count": 78,
   "id": "f7181141-14b7-4bf9-91d3-2316225610cd",
   "metadata": {},
   "outputs": [],
   "source": [
    "# 5. ALL_CAPS: All letters are uppercase, with words separated by underscores. This naming is usually used for constants. \n",
    "\n",
    "MAX_LIMIT = 400"
   ]
  },
  {
   "cell_type": "code",
   "execution_count": 80,
   "id": "5ee24a07-edae-476f-9f13-76b8fdb10d23",
   "metadata": {},
   "outputs": [
    {
     "name": "stdout",
     "output_type": "stream",
     "text": [
      "\n",
      "Here is a list of the Python keywords.  Enter any keyword to get more help.\n",
      "\n",
      "False               class               from                or\n",
      "None                continue            global              pass\n",
      "True                def                 if                  raise\n",
      "and                 del                 import              return\n",
      "as                  elif                in                  try\n",
      "assert              else                is                  while\n",
      "async               except              lambda              with\n",
      "await               finally             nonlocal            yield\n",
      "break               for                 not                 \n",
      "\n"
     ]
    }
   ],
   "source": [
    "\"\"\"The Python reserves several keywords that designate special language functionality. \n",
    "These words can not be used in the naming of variables, functions, or identifiers\"\"\"\n",
    "help(\"keywords\")"
   ]
  },
  {
   "cell_type": "raw",
   "id": "b1d40adb-6da2-4742-8d6d-63ead5dfd175",
   "metadata": {},
   "source": [
    "# statement: a line of code that can be executed\n",
    "# Types of Statements in Python\n",
    "\n",
    "#1: Expression Statements: x = x + 5\n",
    "#2: Assignment Statements:x = 5\n",
    "#3 Conditional Statements: if x > 5 ......\n",
    "#4 Loop Statements: for i in range(5): ......\n",
    "#5 Function and Class Definitions: def test_function():\n",
    "#6 Return Statement: return x * y\n",
    "#7 Import Statements: import math\n",
    "#8 Break and Continue Statements\n",
    "#9 Pass Statement: if a> 10:   pass"
   ]
  },
  {
   "cell_type": "raw",
   "id": "0cc7f4cf-ae36-4355-9c3b-36e875e838e2",
   "metadata": {},
   "source": [
    "# Operators\n",
    "operators in Python are classified into the following groups:\n",
    "\n",
    "#1: Arithmetic operators\n",
    "#2: Assignment operators\n",
    "#3: Comparison operators\n",
    "#4: Logical operators\n",
    "#5: Identity operators\n",
    "#6: Membership operators\n",
    "#7: Bitwise operators\n"
   ]
  },
  {
   "cell_type": "raw",
   "id": "4c9a10c5-3cef-4542-ac57-04e792250487",
   "metadata": {},
   "source": [
    "# Arithmetic Operators: Perform mathematical calculations\n",
    "\n",
    "+ - * / ** // %"
   ]
  },
  {
   "cell_type": "code",
   "execution_count": 82,
   "id": "8b777024-279a-4ce0-bf12-4aaac30eec00",
   "metadata": {},
   "outputs": [
    {
     "data": {
      "text/plain": [
       "10"
      ]
     },
     "execution_count": 82,
     "metadata": {},
     "output_type": "execute_result"
    }
   ],
   "source": [
    "# * : multiplication\n",
    "x = 5\n",
    "x * 2"
   ]
  },
  {
   "cell_type": "code",
   "execution_count": 84,
   "id": "8c1a94cb-1b73-477e-86ce-8c18bc06329d",
   "metadata": {},
   "outputs": [
    {
     "data": {
      "text/plain": [
       "7"
      ]
     },
     "execution_count": 84,
     "metadata": {},
     "output_type": "execute_result"
    }
   ],
   "source": [
    "# + : addition\n",
    "x = 5\n",
    "x + 2"
   ]
  },
  {
   "cell_type": "code",
   "execution_count": 86,
   "id": "f62a9df3-822f-42c2-a487-20b4ca291d03",
   "metadata": {},
   "outputs": [
    {
     "data": {
      "text/plain": [
       "3"
      ]
     },
     "execution_count": 86,
     "metadata": {},
     "output_type": "execute_result"
    }
   ],
   "source": [
    "# - : subtraction\n",
    "x = 5\n",
    "x - 2"
   ]
  },
  {
   "cell_type": "code",
   "execution_count": 88,
   "id": "9b59a7c0-4854-428a-957c-6f459c6f0152",
   "metadata": {},
   "outputs": [
    {
     "data": {
      "text/plain": [
       "25"
      ]
     },
     "execution_count": 88,
     "metadata": {},
     "output_type": "execute_result"
    }
   ],
   "source": [
    "# exponentiation\n",
    "x ** 2"
   ]
  },
  {
   "cell_type": "code",
   "execution_count": 90,
   "id": "85286b73-b6a9-443f-aa58-d891575ee192",
   "metadata": {},
   "outputs": [
    {
     "data": {
      "text/plain": [
       "9765625"
      ]
     },
     "execution_count": 90,
     "metadata": {},
     "output_type": "execute_result"
    }
   ],
   "source": [
    "x = 5\n",
    "y = 10\n",
    "x ** y"
   ]
  },
  {
   "cell_type": "code",
   "execution_count": 92,
   "id": "59583236-73f8-4d5c-b469-d742ab0b6e2c",
   "metadata": {},
   "outputs": [
    {
     "data": {
      "text/plain": [
       "2"
      ]
     },
     "execution_count": 92,
     "metadata": {},
     "output_type": "execute_result"
    }
   ],
   "source": [
    "# //: floor division operator \n",
    "#It returns quotient (rounds down to the nearest whole number)\n",
    "x = 5\n",
    "y = 2\n",
    "\n",
    "x//y"
   ]
  },
  {
   "cell_type": "code",
   "execution_count": 94,
   "id": "ac77fd18-c134-4289-94d0-2c09b4be968a",
   "metadata": {},
   "outputs": [
    {
     "data": {
      "text/plain": [
       "2.5"
      ]
     },
     "execution_count": 94,
     "metadata": {},
     "output_type": "execute_result"
    }
   ],
   "source": [
    "# / : true division\n",
    "# returns the quotient as a float value\n",
    "x/y"
   ]
  },
  {
   "cell_type": "code",
   "execution_count": 96,
   "id": "a519c27f-cd93-490d-ab59-e25abb5cc96b",
   "metadata": {},
   "outputs": [
    {
     "data": {
      "text/plain": [
       "1"
      ]
     },
     "execution_count": 96,
     "metadata": {},
     "output_type": "execute_result"
    }
   ],
   "source": [
    "# %: modulus operator\n",
    "#It returns the remainder of the division \n",
    "x % y"
   ]
  },
  {
   "cell_type": "markdown",
   "id": "ec2ee9e1-a70b-46cf-bb8a-a58da3108776",
   "metadata": {},
   "source": [
    "# Assignment Operators: Assign values to variables"
   ]
  },
  {
   "cell_type": "code",
   "execution_count": 99,
   "id": "9b32d1d3-152e-426b-8100-43960dd944a9",
   "metadata": {},
   "outputs": [
    {
     "name": "stdout",
     "output_type": "stream",
     "text": [
      "500\n"
     ]
    }
   ],
   "source": [
    "# = : assign\n",
    "x = 500\n",
    "print(x)"
   ]
  },
  {
   "cell_type": "code",
   "execution_count": 101,
   "id": "d866b666-67f1-404e-92c4-c1abfc41517c",
   "metadata": {},
   "outputs": [
    {
     "name": "stdout",
     "output_type": "stream",
     "text": [
      "20\n"
     ]
    }
   ],
   "source": [
    "a, b = 10, 20\n",
    "print(b)"
   ]
  },
  {
   "cell_type": "code",
   "execution_count": 103,
   "id": "68667075-1273-48d3-a239-99c90160ae05",
   "metadata": {},
   "outputs": [
    {
     "name": "stdout",
     "output_type": "stream",
     "text": [
      "509\n"
     ]
    }
   ],
   "source": [
    "# += : add and assign\n",
    "x += 9\n",
    "print(x)"
   ]
  },
  {
   "cell_type": "code",
   "execution_count": 105,
   "id": "e6b68f4e-b877-491e-8187-15ccc092b80d",
   "metadata": {},
   "outputs": [
    {
     "name": "stdout",
     "output_type": "stream",
     "text": [
      "506\n"
     ]
    }
   ],
   "source": [
    "#-= : subtract and assign\n",
    "x -= 3\n",
    "print(x)"
   ]
  },
  {
   "cell_type": "code",
   "execution_count": 107,
   "id": "4c5fbb94-c9c3-40f9-8115-0281decaecd4",
   "metadata": {},
   "outputs": [
    {
     "name": "stdout",
     "output_type": "stream",
     "text": [
      "1012\n"
     ]
    }
   ],
   "source": [
    "# *=: multiply and assign\n",
    "x *= 2\n",
    "print(x)"
   ]
  },
  {
   "cell_type": "code",
   "execution_count": 109,
   "id": "c645ffc0-7574-4d45-b237-453d0133b69d",
   "metadata": {},
   "outputs": [
    {
     "name": "stdout",
     "output_type": "stream",
     "text": [
      "506.0\n"
     ]
    }
   ],
   "source": [
    "# /= : divide and assign\n",
    "x /= 2\n",
    "print(x)"
   ]
  },
  {
   "cell_type": "code",
   "execution_count": 111,
   "id": "5ad6eacf-d863-4a63-9625-e11ebf58ba5c",
   "metadata": {},
   "outputs": [
    {
     "name": "stdout",
     "output_type": "stream",
     "text": [
      "7\n"
     ]
    }
   ],
   "source": [
    "# %= : modulus and assign\n",
    "x = 223\n",
    "x %= 8\n",
    "print(x)"
   ]
  },
  {
   "cell_type": "code",
   "execution_count": 113,
   "id": "31312668-ffa8-49d0-846a-2c47566ff505",
   "metadata": {},
   "outputs": [
    {
     "name": "stdout",
     "output_type": "stream",
     "text": [
      "49\n"
     ]
    }
   ],
   "source": [
    "#**=: exponentiate and assign\n",
    "x **= 2\n",
    "print(x)"
   ]
  },
  {
   "cell_type": "code",
   "execution_count": 115,
   "id": "177d1e34-4da8-4f4c-9a95-288bb36214ea",
   "metadata": {},
   "outputs": [
    {
     "name": "stdout",
     "output_type": "stream",
     "text": [
      "24\n"
     ]
    }
   ],
   "source": [
    "#//= : floor divide and assign\n",
    "x //= 2\n",
    "print(x)"
   ]
  },
  {
   "cell_type": "markdown",
   "id": "da668599-26dd-4724-86cc-aef662ae9839",
   "metadata": {},
   "source": [
    "# Comparison Operators: Compare two operands"
   ]
  },
  {
   "cell_type": "code",
   "execution_count": 118,
   "id": "fd7581cc-496c-4539-bb35-88d11c52f42b",
   "metadata": {},
   "outputs": [
    {
     "name": "stdout",
     "output_type": "stream",
     "text": [
      "False\n"
     ]
    }
   ],
   "source": [
    "# == : equal to\n",
    "var_1 = 3\n",
    "var_2 = 4\n",
    "print(var_1 == var_2)\n"
   ]
  },
  {
   "cell_type": "code",
   "execution_count": 120,
   "id": "c2cfbedd-d3fa-4670-9577-d0efec449485",
   "metadata": {},
   "outputs": [
    {
     "name": "stdout",
     "output_type": "stream",
     "text": [
      "True\n"
     ]
    }
   ],
   "source": [
    "# != : not equal to\n",
    "var_1 = 3\n",
    "var_2 = 4\n",
    "print(var_1 != var_2)\n"
   ]
  },
  {
   "cell_type": "code",
   "execution_count": 122,
   "id": "76d2476e-4a3e-4b15-9220-89a8d49a65cc",
   "metadata": {},
   "outputs": [
    {
     "name": "stdout",
     "output_type": "stream",
     "text": [
      "False\n"
     ]
    }
   ],
   "source": [
    "# > : greater than\n",
    "var_1 = 3\n",
    "var_2 = 4\n",
    "print(var_1 > var_2)"
   ]
  },
  {
   "cell_type": "code",
   "execution_count": 124,
   "id": "9d198187-df78-4999-af11-06c2490a6d8e",
   "metadata": {},
   "outputs": [
    {
     "name": "stdout",
     "output_type": "stream",
     "text": [
      "True\n"
     ]
    }
   ],
   "source": [
    "# < : less than\n",
    "var_1 = 3\n",
    "var_2 = 4\n",
    "print(var_1 < var_2)\n"
   ]
  },
  {
   "cell_type": "code",
   "execution_count": 126,
   "id": "e3b09ce1-aadc-4467-9dc0-7ba80cc80b29",
   "metadata": {},
   "outputs": [
    {
     "name": "stdout",
     "output_type": "stream",
     "text": [
      "False\n"
     ]
    }
   ],
   "source": [
    "# >= : greater than or equal to\n",
    "var_1 = 3\n",
    "var_2 = 4\n",
    "print(var_1 >= var_2)\n"
   ]
  },
  {
   "cell_type": "code",
   "execution_count": 128,
   "id": "c0db622d-17f1-4d1a-9a2a-5321e28985d5",
   "metadata": {},
   "outputs": [
    {
     "name": "stdout",
     "output_type": "stream",
     "text": [
      "True\n"
     ]
    }
   ],
   "source": [
    "# <= : less than or equal to\n",
    "var_1 = 3\n",
    "var_2 = 4\n",
    "print(var_1 <= var_2)"
   ]
  },
  {
   "cell_type": "markdown",
   "id": "c5ebac49-9ab3-4a5b-b86e-a25f2ae3a67b",
   "metadata": {},
   "source": [
    "# Logical operators: Combine or modify boolean expressions"
   ]
  },
  {
   "cell_type": "code",
   "execution_count": 131,
   "id": "77103887-fc35-4fa2-9066-de75c5109bf0",
   "metadata": {},
   "outputs": [
    {
     "name": "stdout",
     "output_type": "stream",
     "text": [
      "False\n"
     ]
    }
   ],
   "source": [
    "# and : returns True if both operands are true\n",
    "x = True\n",
    "y = False\n",
    "print(x and y)"
   ]
  },
  {
   "cell_type": "code",
   "execution_count": 133,
   "id": "732e4bf8-d1d0-479f-bdca-cd46be1b96e9",
   "metadata": {},
   "outputs": [
    {
     "name": "stdout",
     "output_type": "stream",
     "text": [
      "True\n"
     ]
    }
   ],
   "source": [
    "# or : returns True if at least one operand is true\n",
    "x = 1\n",
    "y = 10\n",
    "print(x < 5 or y < 4)"
   ]
  },
  {
   "cell_type": "code",
   "execution_count": 135,
   "id": "3da5be4f-db3c-47e9-8397-6c1fd9454ecd",
   "metadata": {},
   "outputs": [
    {
     "name": "stdout",
     "output_type": "stream",
     "text": [
      "False\n"
     ]
    }
   ],
   "source": [
    "# not : reverses the boolean value of the operand\n",
    "x = True\n",
    "print(not x)"
   ]
  },
  {
   "cell_type": "markdown",
   "id": "f2d9d373-ff3b-4e3c-91ea-ff1285d3d6ec",
   "metadata": {},
   "source": [
    "# Bitwise operators: Perform bit-level operations on integers      "
   ]
  },
  {
   "cell_type": "code",
   "execution_count": 138,
   "id": "803b60bd-8182-4deb-9c5c-eb337e1e343f",
   "metadata": {},
   "outputs": [
    {
     "name": "stdout",
     "output_type": "stream",
     "text": [
      "0\n"
     ]
    }
   ],
   "source": [
    "# & : AND\n",
    "x = 10 # Binary: 1010\n",
    "y = 4  # Binary: 0100\n",
    "print(x & y)"
   ]
  },
  {
   "cell_type": "code",
   "execution_count": 140,
   "id": "3187bc3c-e307-4fdc-9e12-fbddfb59d870",
   "metadata": {},
   "outputs": [
    {
     "name": "stdout",
     "output_type": "stream",
     "text": [
      "14\n"
     ]
    }
   ],
   "source": [
    "# | : OR\n",
    "x = 10 # Binary: 1010\n",
    "y = 4  # Binary: 0100\n",
    "print(x | y)"
   ]
  },
  {
   "cell_type": "code",
   "execution_count": 142,
   "id": "6bc4105e-6e68-41e1-a95c-8faa42525f65",
   "metadata": {},
   "outputs": [
    {
     "name": "stdout",
     "output_type": "stream",
     "text": [
      "14\n"
     ]
    }
   ],
   "source": [
    "# ^ : XOR\n",
    "x = 10 # Binary: 1010\n",
    "y = 4  # Binary: 0100\n",
    "print(x ^ y)"
   ]
  },
  {
   "cell_type": "code",
   "execution_count": 144,
   "id": "805a0c22-439f-4897-b942-f88ebaf9ce73",
   "metadata": {},
   "outputs": [
    {
     "name": "stdout",
     "output_type": "stream",
     "text": [
      "-11\n"
     ]
    }
   ],
   "source": [
    "# ~ : NOT\n",
    "x = 10 # Binary: 1010\n",
    "y = 4  # Binary: 0100\n",
    "print(~x)"
   ]
  },
  {
   "cell_type": "code",
   "execution_count": 146,
   "id": "f0a3c54d-b4f1-4b1a-9a44-e09504cba802",
   "metadata": {},
   "outputs": [
    {
     "name": "stdout",
     "output_type": "stream",
     "text": [
      "40\n"
     ]
    }
   ],
   "source": [
    "# << : left shift\n",
    "x = 10 # Binary: 1010\n",
    "print(x << 2)"
   ]
  },
  {
   "cell_type": "code",
   "execution_count": 148,
   "id": "bce58188-ab75-497c-824f-b41aa7a400dc",
   "metadata": {},
   "outputs": [
    {
     "name": "stdout",
     "output_type": "stream",
     "text": [
      "2\n"
     ]
    }
   ],
   "source": [
    "# >> : right shift\n",
    "x = 10 # Binary: 1010\n",
    "print(x >> 2)"
   ]
  },
  {
   "cell_type": "markdown",
   "id": "add4c369-7433-4087-849f-0871779925d1",
   "metadata": {},
   "source": [
    "# Identity operators: Compare the memory locations of two objects"
   ]
  },
  {
   "cell_type": "code",
   "execution_count": 151,
   "id": "328bb6f8-625d-4f4d-84ba-dd8897cff057",
   "metadata": {},
   "outputs": [
    {
     "name": "stdout",
     "output_type": "stream",
     "text": [
      "True\n"
     ]
    }
   ],
   "source": [
    "# is : returns True if both operands refer to the same object\n",
    "x = [1, 2, 3]\n",
    "y = x\n",
    "z = [1, 2, 3]\n",
    "print(x is y)"
   ]
  },
  {
   "cell_type": "code",
   "execution_count": 153,
   "id": "fa7eb026-7a94-4909-8bee-7df5c7f7b7ca",
   "metadata": {},
   "outputs": [
    {
     "name": "stdout",
     "output_type": "stream",
     "text": [
      "False\n"
     ]
    }
   ],
   "source": [
    "x = [1, 2, 3]\n",
    "y = x\n",
    "z = [1, 2, 3]\n",
    "print(x is z)"
   ]
  },
  {
   "cell_type": "code",
   "execution_count": 155,
   "id": "eac36cb5-9124-46cb-aa98-d14646268cb3",
   "metadata": {},
   "outputs": [
    {
     "name": "stdout",
     "output_type": "stream",
     "text": [
      "True\n"
     ]
    }
   ],
   "source": [
    "# is not : returns True if both operands do not refer to the same object\n",
    "x = [1, 2, 3]\n",
    "y = x\n",
    "z = [1, 2, 3]\n",
    "print(x is not z)"
   ]
  },
  {
   "cell_type": "markdown",
   "id": "e21eebd2-ff21-47d2-84b1-4f566c562e64",
   "metadata": {},
   "source": [
    "# Membership Operators"
   ]
  },
  {
   "cell_type": "code",
   "execution_count": 160,
   "id": "f913912e-98f6-43fd-b8b1-9cfee25d9706",
   "metadata": {},
   "outputs": [
    {
     "name": "stdout",
     "output_type": "stream",
     "text": [
      "True\n"
     ]
    }
   ],
   "source": [
    "# in : returnrs True if value is found in the sequence\n",
    "x = 25\n",
    "y = 50\n",
    "list = [10, 20, 30, 40, 50]\n",
    "print(y in list)"
   ]
  },
  {
   "cell_type": "code",
   "execution_count": 162,
   "id": "f9fb44a1-1413-4faf-80d4-10e88602e616",
   "metadata": {},
   "outputs": [
    {
     "name": "stdout",
     "output_type": "stream",
     "text": [
      "True\n"
     ]
    }
   ],
   "source": [
    "# not in : returns True if value is not found in the sequence\n",
    "x = 25\n",
    "y = 50\n",
    "list = [10, 20, 30, 40, 50]\n",
    "print(x not in list)"
   ]
  },
  {
   "cell_type": "raw",
   "id": "03e805c5-2560-4b3c-b3f1-05af5d4d9b4a",
   "metadata": {},
   "source": [
    "# Operator Precedence in Python: describes the order of operations in statements\n",
    "# highest precedence at the top\n",
    "()\n",
    "**\n",
    "+x  -x  ~x\n",
    "*  /  //  %\n",
    "+  -\n",
    "<<  >>\n",
    "&\n",
    "^\n",
    "|  \n",
    "==  !=  >  >=  <  <=  is  is not  in  not in\n",
    "not\n",
    "and\n",
    "or"
   ]
  },
  {
   "cell_type": "code",
   "execution_count": 164,
   "id": "3475e3e0-2f47-40cc-84c1-64e068647e3f",
   "metadata": {},
   "outputs": [
    {
     "name": "stdout",
     "output_type": "stream",
     "text": [
      "225\n"
     ]
    }
   ],
   "source": [
    "print(100 + 5 ** 3) "
   ]
  },
  {
   "cell_type": "markdown",
   "id": "ca95be94-62e2-4223-9aa9-c499bab653e8",
   "metadata": {},
   "source": [
    "# Operator Associativity in Python\n",
    "# If two operators have the same precedence, the expression is evaluated from left to right"
   ]
  },
  {
   "cell_type": "code",
   "execution_count": 167,
   "id": "057af893-6319-4c0a-a6ab-8fd3f5d3c53a",
   "metadata": {},
   "outputs": [
    {
     "name": "stdout",
     "output_type": "stream",
     "text": [
      "11\n",
      "-1\n"
     ]
    }
   ],
   "source": [
    "print(10 - 5 + 6)\n",
    "print(10 - (5 + 6))"
   ]
  }
 ],
 "metadata": {
  "kernelspec": {
   "display_name": "Python [conda env:base] *",
   "language": "python",
   "name": "conda-base-py"
  },
  "language_info": {
   "codemirror_mode": {
    "name": "ipython",
    "version": 3
   },
   "file_extension": ".py",
   "mimetype": "text/x-python",
   "name": "python",
   "nbconvert_exporter": "python",
   "pygments_lexer": "ipython3",
   "version": "3.12.7"
  }
 },
 "nbformat": 4,
 "nbformat_minor": 5
}
